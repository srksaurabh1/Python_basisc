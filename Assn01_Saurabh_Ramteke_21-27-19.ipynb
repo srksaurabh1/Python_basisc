{
 "cells": [
  {
   "cell_type": "markdown",
   "id": "383bd1b8",
   "metadata": {},
   "source": [
    "Name: Saurabh S. Ramteke                                                       \n",
    "Roll No: 21-27-19                                                               \n",
    "M.Tech: Data Science"
   ]
  },
  {
   "cell_type": "markdown",
   "id": "7765265f",
   "metadata": {},
   "source": [
    "##### Q.1. What is the difference between two statements: print(9+2) and print(“9+2”) ?"
   ]
  },
  {
   "cell_type": "code",
   "execution_count": 1,
   "id": "d8d9a32e",
   "metadata": {},
   "outputs": [
    {
     "name": "stdout",
     "output_type": "stream",
     "text": [
      "11\n",
      "9+2\n"
     ]
    }
   ],
   "source": [
    "print(9+2)\n",
    "print(\"9+2\")"
   ]
  },
  {
   "cell_type": "markdown",
   "id": "e2901887",
   "metadata": {},
   "source": [
    "Ans. First print statement evaluates the expression and then print the value. i.e. which is 9+2 = 1.                          \n",
    "In the second print statement as the values are enclosed inside double quotes(we can also write it in single quotes) the python complier interprets it as string(variables) and print string as it is without doing anything."
   ]
  },
  {
   "cell_type": "markdown",
   "id": "4905bfdb",
   "metadata": {},
   "source": [
    "##### Q.2. Why does 4+7*2 equates to 18 in python and not 22 ?"
   ]
  },
  {
   "cell_type": "code",
   "execution_count": 2,
   "id": "ae5e94eb",
   "metadata": {},
   "outputs": [
    {
     "data": {
      "text/plain": [
       "18"
      ]
     },
     "execution_count": 2,
     "metadata": {},
     "output_type": "execute_result"
    }
   ],
   "source": [
    "4+7*2"
   ]
  },
  {
   "cell_type": "markdown",
   "id": "547264ac",
   "metadata": {},
   "source": [
    "Python evalutes any computation using BODMAS rule, which consists of priority operator. And priority of '*' operator is higher than the priority of '+' operator. But if we want values should be equal to 22 then we need to add parathesis at appopirate locations."
   ]
  },
  {
   "cell_type": "code",
   "execution_count": 3,
   "id": "637cc1a9",
   "metadata": {},
   "outputs": [
    {
     "data": {
      "text/plain": [
       "22"
      ]
     },
     "execution_count": 3,
     "metadata": {},
     "output_type": "execute_result"
    }
   ],
   "source": [
    "(4+7)*2"
   ]
  },
  {
   "cell_type": "markdown",
   "id": "6cfff957",
   "metadata": {},
   "source": [
    "##### Q3: Is there any difference between the following:\n",
    "a=123456789 and a= 1.23456789 * 10 * *8"
   ]
  },
  {
   "cell_type": "code",
   "execution_count": 4,
   "id": "e2f73d0b",
   "metadata": {},
   "outputs": [
    {
     "name": "stdout",
     "output_type": "stream",
     "text": [
      "123456789 <class 'int'>\n"
     ]
    }
   ],
   "source": [
    "a = 123456789\n",
    "print(a,type(a))"
   ]
  },
  {
   "cell_type": "code",
   "execution_count": 5,
   "id": "53810461",
   "metadata": {},
   "outputs": [
    {
     "name": "stdout",
     "output_type": "stream",
     "text": [
      "123456789.1 <class 'float'>\n"
     ]
    }
   ],
   "source": [
    "a= 1.2345678910 * 10 ** 8 \n",
    "print(a,type(a))"
   ]
  },
  {
   "cell_type": "markdown",
   "id": "e59f2848",
   "metadata": {},
   "source": [
    "Yes, 1st assignment is of type integer, and 2nd assignment is of type float(a real no.)"
   ]
  },
  {
   "cell_type": "markdown",
   "id": "7881d9ed",
   "metadata": {},
   "source": [
    "##### Q4: What is the meaning of a<123456789 in python ?"
   ]
  },
  {
   "cell_type": "code",
   "execution_count": 6,
   "id": "570dea10",
   "metadata": {},
   "outputs": [
    {
     "data": {
      "text/plain": [
       "False"
      ]
     },
     "execution_count": 6,
     "metadata": {},
     "output_type": "execute_result"
    }
   ],
   "source": [
    "a < 123456789"
   ]
  },
  {
   "cell_type": "markdown",
   "id": "49743d65",
   "metadata": {},
   "source": [
    "It is an operator which checks whether the variable is less than that of given value. If yes then it returns True, else it returns False. In our case it is equal to the value. Hence, it returns False."
   ]
  },
  {
   "cell_type": "markdown",
   "id": "fb793400",
   "metadata": {},
   "source": [
    "##### Q5: What is output of the following in python and what is the type of variable:\n",
    "a=1/2"
   ]
  },
  {
   "cell_type": "code",
   "execution_count": 7,
   "id": "c36c1076",
   "metadata": {},
   "outputs": [
    {
     "name": "stdout",
     "output_type": "stream",
     "text": [
      "0.5 <class 'float'>\n"
     ]
    }
   ],
   "source": [
    "a = 1/2\n",
    "print(a, type(a))"
   ]
  },
  {
   "cell_type": "markdown",
   "id": "a336e59d",
   "metadata": {},
   "source": [
    "It reassigns the value 0.5 to the variable a, and the previous value is lost.\n",
    "Its type is float because it is a real number."
   ]
  },
  {
   "cell_type": "markdown",
   "id": "f1bdfec3",
   "metadata": {},
   "source": [
    "##### Q6: Are both the statements same :\n",
    "a=1/2 and a= 1/ 2.0\n"
   ]
  },
  {
   "cell_type": "code",
   "execution_count": 8,
   "id": "ae8c0c48",
   "metadata": {},
   "outputs": [
    {
     "name": "stdout",
     "output_type": "stream",
     "text": [
      "0.5 <class 'float'>\n"
     ]
    }
   ],
   "source": [
    "a = 1/2\n",
    "print(a, type(a))"
   ]
  },
  {
   "cell_type": "code",
   "execution_count": 9,
   "id": "ed70c78e",
   "metadata": {},
   "outputs": [
    {
     "name": "stdout",
     "output_type": "stream",
     "text": [
      "0.5 <class 'float'>\n"
     ]
    }
   ],
   "source": [
    "a = 1/2.0\n",
    "print(a, type(a))"
   ]
  },
  {
   "cell_type": "markdown",
   "id": "2dac3558",
   "metadata": {},
   "source": [
    "Both the operations are similar"
   ]
  },
  {
   "cell_type": "markdown",
   "id": "19ffcd57",
   "metadata": {},
   "source": [
    "##### Q7: Can you write the following expression in fewer terms in python?\n",
    "( age == 21 and height == 120 ) or ( age == 21 and height == 140 )"
   ]
  },
  {
   "cell_type": "code",
   "execution_count": 10,
   "id": "a373466d",
   "metadata": {},
   "outputs": [
    {
     "data": {
      "text/plain": [
       "False"
      ]
     },
     "execution_count": 10,
     "metadata": {},
     "output_type": "execute_result"
    }
   ],
   "source": [
    "age = 21\n",
    "height = 130\n",
    "age == 21 and (height == 120 or height == 140)"
   ]
  },
  {
   "cell_type": "markdown",
   "id": "74703ca7",
   "metadata": {},
   "source": [
    "##### Q8: Write a program in python to display those items from a list of 10 numbers that is divisible by 3"
   ]
  },
  {
   "cell_type": "code",
   "execution_count": 11,
   "id": "3dcb2147",
   "metadata": {},
   "outputs": [
    {
     "name": "stdout",
     "output_type": "stream",
     "text": [
      "[3, 6, 9, 12, 15, 18, 21, 24, 27, 30]\n"
     ]
    }
   ],
   "source": [
    "ls = []\n",
    "\n",
    "for no in range(40):\n",
    "    if no != 0 and no % 3 == 0 and len(ls) != 10:\n",
    "        ls.append(no)\n",
    "\n",
    "print(ls)"
   ]
  },
  {
   "cell_type": "markdown",
   "id": "d6b21d68",
   "metadata": {},
   "source": [
    "##### Q9: val = ( ( 3 , 2 ) , ( 5 , 7 ) , ( 1 , 9 ) , 0 , ( 1 ) )\n",
    "Then what is the output of :                              \n",
    "I. len(val)                           \n",
    "II. val[1]                              \n",
    "III. print (val[2][0])                         \n",
    "IV. print(val[3][0])                                              \n",
    "V. print(val[x][y]) for what values of x and y the output will be 9                   \n",
    "VI. what is the type val[0] and val[4]                "
   ]
  },
  {
   "cell_type": "code",
   "execution_count": 12,
   "id": "e99349f8",
   "metadata": {},
   "outputs": [
    {
     "name": "stdout",
     "output_type": "stream",
     "text": [
      "   Val: ((3, 2), (5, 7), (1, 9), 0, 1)\n",
      "1. len(val): 5\n",
      "2. val[1]: (5, 7)\n",
      "3. val[2][0]: 1\n",
      "5. val[x][y] = 9 => val[2][1]: 9\n",
      "6. type(val[0]): <class 'tuple'>\n",
      "7. type(val[4]): <class 'int'>\n"
     ]
    }
   ],
   "source": [
    "val = ((3,2), (5,7), (1,9), 0, (1))\n",
    "\n",
    "print(f'   Val: {val}')\n",
    "print(f'1. len(val): {len(val)}')\n",
    "print(f'2. val[1]: {val[1]}')\n",
    "print(f'3. val[2][0]: {val[2][0]}')\n",
    "\n",
    "print(f'5. val[x][y] = 9 => val[2][1]: {val[2][1]}')\n",
    "print(f'6. type(val[0]): {type(val[0])}')\n",
    "print(f'7. type(val[4]): {type(val[4])}')"
   ]
  },
  {
   "cell_type": "markdown",
   "id": "d597008c",
   "metadata": {},
   "source": [
    "print('val[3][0]'):\n",
    "'int' object is not subscriptable."
   ]
  },
  {
   "cell_type": "markdown",
   "id": "35cbbbc3",
   "metadata": {},
   "source": [
    "##### Q10: What is the output of the following python snippet:\n",
    "x,y,z =1,2 ,x**3"
   ]
  },
  {
   "cell_type": "code",
   "execution_count": 13,
   "id": "f4ff69df",
   "metadata": {},
   "outputs": [
    {
     "ename": "NameError",
     "evalue": "name 'x' is not defined",
     "output_type": "error",
     "traceback": [
      "\u001b[1;31m---------------------------------------------------------------------------\u001b[0m",
      "\u001b[1;31mNameError\u001b[0m                                 Traceback (most recent call last)",
      "\u001b[1;32m~\\AppData\\Local\\Temp/ipykernel_14488/1374256524.py\u001b[0m in \u001b[0;36m<module>\u001b[1;34m\u001b[0m\n\u001b[1;32m----> 1\u001b[1;33m \u001b[0mx\u001b[0m\u001b[1;33m,\u001b[0m\u001b[0my\u001b[0m\u001b[1;33m,\u001b[0m\u001b[0mz\u001b[0m \u001b[1;33m=\u001b[0m \u001b[1;36m1\u001b[0m\u001b[1;33m,\u001b[0m\u001b[1;36m2\u001b[0m\u001b[1;33m,\u001b[0m\u001b[0mx\u001b[0m\u001b[1;33m**\u001b[0m\u001b[1;36m3\u001b[0m\u001b[1;33m\u001b[0m\u001b[1;33m\u001b[0m\u001b[0m\n\u001b[0m\u001b[0;32m      2\u001b[0m \u001b[0mprint\u001b[0m\u001b[1;33m(\u001b[0m\u001b[0mx\u001b[0m\u001b[1;33m,\u001b[0m\u001b[0my\u001b[0m\u001b[1;33m,\u001b[0m\u001b[0mz\u001b[0m\u001b[1;33m)\u001b[0m\u001b[1;33m\u001b[0m\u001b[1;33m\u001b[0m\u001b[0m\n",
      "\u001b[1;31mNameError\u001b[0m: name 'x' is not defined"
     ]
    }
   ],
   "source": [
    "x,y,z = 1,2,x**3\n",
    "print(x,y,z)"
   ]
  },
  {
   "cell_type": "markdown",
   "id": "10ee8d68",
   "metadata": {},
   "source": [
    "This error is comming because we are intializing all the elements at the same time but python compiler runs one line at a time, and it searches for variable 'x' defined before this line, which is not the case. Hence if we want our program to run, then we need to initalize 'x' variable before or we need to initilize 'z' variable after the line."
   ]
  },
  {
   "cell_type": "code",
   "execution_count": null,
   "id": "aa86af5e",
   "metadata": {},
   "outputs": [],
   "source": [
    "# correct syntax\n",
    "x,y = 1,2\n",
    "z = x**3\n",
    "print(x,y,z)"
   ]
  }
 ],
 "metadata": {
  "kernelspec": {
   "display_name": "Python 3 (ipykernel)",
   "language": "python",
   "name": "python3"
  },
  "language_info": {
   "codemirror_mode": {
    "name": "ipython",
    "version": 3
   },
   "file_extension": ".py",
   "mimetype": "text/x-python",
   "name": "python",
   "nbconvert_exporter": "python",
   "pygments_lexer": "ipython3",
   "version": "3.9.7"
  }
 },
 "nbformat": 4,
 "nbformat_minor": 5
}
