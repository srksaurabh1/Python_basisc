{
 "cells": [
  {
   "cell_type": "markdown",
   "id": "383bd1b8",
   "metadata": {},
   "source": [
    "Name: Saurabh S. Ramteke                                                       \n",
    "Roll No: 21-27-19                                                               \n",
    "M.Tech: Data Science"
   ]
  },
  {
   "cell_type": "markdown",
   "id": "efafe5d7",
   "metadata": {},
   "source": [
    "##### Q.1. What is the difference between two statements: print(9+2) and print(“9+2”) ?"
   ]
  },
  {
   "cell_type": "code",
   "execution_count": 1,
   "id": "6001b082",
   "metadata": {},
   "outputs": [
    {
     "name": "stdout",
     "output_type": "stream",
     "text": [
      "11\n",
      "9+2\n"
     ]
    }
   ],
   "source": [
    "print(9+2)\n",
    "print(\"9+2\")"
   ]
  },
  {
   "cell_type": "markdown",
   "id": "8ce48045",
   "metadata": {},
   "source": [
    "Ans. First print statement evaluates the expression and then print the value. i.e. which is 9+2 = 1.                          \n",
    "In the second print statement as the values are enclosed inside double quotes(we can also write it in single quotes) the python complier interprets it as string(variables) and print string as it is without doing anything."
   ]
  },
  {
   "cell_type": "markdown",
   "id": "97ab012a",
   "metadata": {},
   "source": [
    "##### Q.2. Why does 4+7*2 equates to 18 in python and not 22 ?"
   ]
  },
  {
   "cell_type": "code",
   "execution_count": 2,
   "id": "a8f8a7a0",
   "metadata": {},
   "outputs": [
    {
     "data": {
      "text/plain": [
       "18"
      ]
     },
     "execution_count": 2,
     "metadata": {},
     "output_type": "execute_result"
    }
   ],
   "source": [
    "4+7*2"
   ]
  },
  {
   "cell_type": "markdown",
   "id": "287b3465",
   "metadata": {},
   "source": [
    "Python evalutes any computation using BODMAS rule, which consists of priority operator. And priority of '*' operator is higher than the priority of '+' operator. But if we want values should be equal to 22 then we need to add parathesis at appopirate locations."
   ]
  },
  {
   "cell_type": "code",
   "execution_count": 3,
   "id": "c3a291a5",
   "metadata": {},
   "outputs": [
    {
     "data": {
      "text/plain": [
       "22"
      ]
     },
     "execution_count": 3,
     "metadata": {},
     "output_type": "execute_result"
    }
   ],
   "source": [
    "(4+7)*2"
   ]
  },
  {
   "cell_type": "markdown",
   "id": "b8f53510",
   "metadata": {},
   "source": [
    "##### Q3: Is there any difference between the following:\n",
    "a=123456789 and a= 1.23456789 * 10 * *8"
   ]
  },
  {
   "cell_type": "code",
   "execution_count": 4,
   "id": "02fdf226",
   "metadata": {},
   "outputs": [
    {
     "name": "stdout",
     "output_type": "stream",
     "text": [
      "123456789 <class 'int'>\n"
     ]
    }
   ],
   "source": [
    "a = 123456789\n",
    "print(a,type(a))"
   ]
  },
  {
   "cell_type": "code",
   "execution_count": 5,
   "id": "695d84c2",
   "metadata": {},
   "outputs": [
    {
     "name": "stdout",
     "output_type": "stream",
     "text": [
      "123456789.1 <class 'float'>\n"
     ]
    }
   ],
   "source": [
    "a= 1.2345678910 * 10 ** 8 \n",
    "print(a,type(a))"
   ]
  },
  {
   "cell_type": "markdown",
   "id": "f6f0be9d",
   "metadata": {},
   "source": [
    "Yes, 1st assignment is of type integer, and 2nd assignment is of type float(a real no.)"
   ]
  },
  {
   "cell_type": "markdown",
   "id": "ae86a251",
   "metadata": {},
   "source": [
    "##### Q4: What is the meaning of a<123456789 in python ?"
   ]
  },
  {
   "cell_type": "code",
   "execution_count": 6,
   "id": "742933cd",
   "metadata": {},
   "outputs": [
    {
     "data": {
      "text/plain": [
       "False"
      ]
     },
     "execution_count": 6,
     "metadata": {},
     "output_type": "execute_result"
    }
   ],
   "source": [
    "a < 123456789"
   ]
  },
  {
   "cell_type": "markdown",
   "id": "235aaab2",
   "metadata": {},
   "source": [
    "It is an operator which checks whether the variable is less than that of given value. If yes then it returns True, else it returns False. In our case it is equal to the value. Hence, it returns False."
   ]
  },
  {
   "cell_type": "markdown",
   "id": "468a4055",
   "metadata": {},
   "source": [
    "##### Q5: What is output of the following in python and what is the type of variable:\n",
    "a=1/2"
   ]
  },
  {
   "cell_type": "code",
   "execution_count": 8,
   "id": "0319c043",
   "metadata": {},
   "outputs": [
    {
     "name": "stdout",
     "output_type": "stream",
     "text": [
      "0.5 <class 'float'>\n"
     ]
    }
   ],
   "source": [
    "a = 1/2\n",
    "print(a, type(a))"
   ]
  },
  {
   "cell_type": "markdown",
   "id": "8897ad8f",
   "metadata": {},
   "source": [
    "It reassigns the value 0.5 to the variable a, and the previous value is lost.\n",
    "Its type is float because it is a real number."
   ]
  },
  {
   "cell_type": "markdown",
   "id": "a1b00438",
   "metadata": {},
   "source": [
    "##### Q6: Are both the statements same :\n",
    "a=1/2 and a= 1/ 2.0\n"
   ]
  },
  {
   "cell_type": "code",
   "execution_count": 12,
   "id": "dba4dbb4",
   "metadata": {},
   "outputs": [
    {
     "name": "stdout",
     "output_type": "stream",
     "text": [
      "0.5 <class 'float'>\n"
     ]
    }
   ],
   "source": [
    "a = 1/2\n",
    "print(a, type(a))"
   ]
  },
  {
   "cell_type": "code",
   "execution_count": 13,
   "id": "f1366bef",
   "metadata": {},
   "outputs": [
    {
     "name": "stdout",
     "output_type": "stream",
     "text": [
      "0.5 <class 'float'>\n"
     ]
    }
   ],
   "source": [
    "a = 1/2.0\n",
    "print(a, type(a))"
   ]
  },
  {
   "cell_type": "markdown",
   "id": "27c3a7c6",
   "metadata": {},
   "source": [
    "Both the operations are similar"
   ]
  },
  {
   "cell_type": "markdown",
   "id": "000f97b2",
   "metadata": {},
   "source": [
    "##### Q7: Can you write the following expression in fewer terms in python?\n",
    "( age == 21 and height == 120 ) or ( age == 21 and height == 140 )"
   ]
  },
  {
   "cell_type": "code",
   "execution_count": 17,
   "id": "a4c6736e",
   "metadata": {},
   "outputs": [
    {
     "data": {
      "text/plain": [
       "140"
      ]
     },
     "execution_count": 17,
     "metadata": {},
     "output_type": "execute_result"
    }
   ],
   "source": [
    "age = 21\n",
    "height = 130\n",
    "age == 21 and (height == 120 or height == 140)"
   ]
  },
  {
   "cell_type": "markdown",
   "id": "742d44d7",
   "metadata": {},
   "source": [
    "##### Q8: Write a program in python to display those items from a list of 10 numbers that is divisible by 3"
   ]
  },
  {
   "cell_type": "code",
   "execution_count": 26,
   "id": "92d58a0a",
   "metadata": {},
   "outputs": [
    {
     "name": "stdout",
     "output_type": "stream",
     "text": [
      "[3, 6, 9, 12, 15, 18, 21, 24, 27, 30]\n"
     ]
    }
   ],
   "source": [
    "ls = []\n",
    "\n",
    "for no in range(40):\n",
    "    if no != 0 and no % 3 == 0 and len(ls) != 10:\n",
    "        ls.append(no)\n",
    "\n",
    "print(ls)"
   ]
  },
  {
   "cell_type": "markdown",
   "id": "8a78e92b",
   "metadata": {},
   "source": [
    "##### Q9: val = ( ( 3 , 2 ) , ( 5 , 7 ) , ( 1 , 9 ) , 0 , ( 1 ) )\n",
    "Then what is the output of :                              \n",
    "I. len(val)                           \n",
    "II. val[1]                              \n",
    "III. print (val[2][0])                         \n",
    "IV. print(val[3][0])                                              \n",
    "V. print(val[x][y]) for what values of x and y the output will be 9                   \n",
    "VI. what is the type val[0] and val[4]                "
   ]
  },
  {
   "cell_type": "code",
   "execution_count": 34,
   "id": "70b40427",
   "metadata": {},
   "outputs": [
    {
     "name": "stdout",
     "output_type": "stream",
     "text": [
      "   Val: ((3, 2), (5, 7), (1, 9), 0, 1)\n",
      "1. len(val): 5\n",
      "2. val[1]: (5, 7)\n",
      "3. val[2][0]: 1\n",
      "5. val[x][y] = 9 => val[2][1]: 9\n",
      "6. type(val[0]): <class 'tuple'>\n",
      "7. type(val[4]): <class 'int'>\n"
     ]
    }
   ],
   "source": [
    "val = ((3,2), (5,7), (1,9), 0, (1))\n",
    "\n",
    "print(f'   Val: {val}')\n",
    "print(f'1. len(val): {len(val)}')\n",
    "print(f'2. val[1]: {val[1]}')\n",
    "print(f'3. val[2][0]: {val[2][0]}')\n",
    "\n",
    "print(f'5. val[x][y] = 9 => val[2][1]: {val[2][1]}')\n",
    "print(f'6. type(val[0]): {type(val[0])}')\n",
    "print(f'7. type(val[4]): {type(val[4])}')"
   ]
  },
  {
   "cell_type": "markdown",
   "id": "26e40be1",
   "metadata": {},
   "source": [
    "print(f'val[3][0]: {val[3][0]}')\n",
    "'int' object is not subscriptable."
   ]
  },
  {
   "cell_type": "markdown",
   "id": "5d87a969",
   "metadata": {},
   "source": [
    "##### Q10: What is the output of the following python snippet:\n",
    "x,y,z =1,2 ,x**3"
   ]
  },
  {
   "cell_type": "code",
   "execution_count": 40,
   "id": "e5d966b8",
   "metadata": {},
   "outputs": [
    {
     "name": "stdout",
     "output_type": "stream",
     "text": [
      "1 2 1\n"
     ]
    }
   ],
   "source": [
    "x,y,z = 1, 2, x**3\n",
    "print(x, y, z)"
   ]
  }
 ],
 "metadata": {
  "kernelspec": {
   "display_name": "Python 3 (ipykernel)",
   "language": "python",
   "name": "python3"
  },
  "language_info": {
   "codemirror_mode": {
    "name": "ipython",
    "version": 3
   },
   "file_extension": ".py",
   "mimetype": "text/x-python",
   "name": "python",
   "nbconvert_exporter": "python",
   "pygments_lexer": "ipython3",
   "version": "3.9.7"
  }
 },
 "nbformat": 4,
 "nbformat_minor": 5
}
