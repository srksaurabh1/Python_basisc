{
 "cells": [
  {
   "cell_type": "markdown",
   "metadata": {},
   "source": [
    "Name: Saurabh S. Ramteke                                                       \n",
    "Roll No: 21-27-19                                                               \n",
    "M.Tech: Data Science"
   ]
  },
  {
   "cell_type": "markdown",
   "metadata": {},
   "source": [
    "##### 1 Write a program to input two numbers and perform their addition"
   ]
  },
  {
   "cell_type": "code",
   "execution_count": 1,
   "metadata": {},
   "outputs": [
    {
     "name": "stdout",
     "output_type": "stream",
     "text": [
      "Enter 1st number: 4\n",
      "Enter 2nd number: 45\n",
      "The sum of no. x: 4 & y: 45 is 49\n"
     ]
    }
   ],
   "source": [
    "def func_sum(x,y):\n",
    "    '''Returns sum of 2 numbers'''\n",
    "    return x + y\n",
    "x = int(input('Enter 1st number: '))\n",
    "y = int(input('Enter 2nd number: '))\n",
    "\n",
    "sum = func_sum(x,y)\n",
    "print(f'The sum of no. x: {x} & y: {y} is {sum}')"
   ]
  },
  {
   "cell_type": "markdown",
   "metadata": {},
   "source": [
    "##### 2 Write a program to input marks and calculate the grade of a student as per the DIAT norms."
   ]
  },
  {
   "cell_type": "code",
   "execution_count": 1,
   "metadata": {},
   "outputs": [
    {
     "name": "stdout",
     "output_type": "stream",
     "text": [
      "Marks in Sub 01:45\n",
      "Marks in Sub 02:41\n",
      "Marks in Sub 03:41\n",
      "Marks in Sub 04:54\n",
      "Marks in Sub 05:46\n",
      "Marks in Sub 06:41\n"
     ]
    }
   ],
   "source": [
    "def student():\n",
    "    '''Returns average marks of student ranging from 1 to 10'''\n",
    "    ls = []\n",
    "    sum = 0\n",
    "    for _ in range(6):\n",
    "        x = float(input(f'Marks in Sub 0{_+1}:'))\n",
    "        sum += x\n",
    "        ls.append(x)\n",
    "    return sum/(6*10)\n",
    "\n",
    "Saurabh = student()"
   ]
  },
  {
   "cell_type": "code",
   "execution_count": 2,
   "metadata": {},
   "outputs": [
    {
     "name": "stdout",
     "output_type": "stream",
     "text": [
      "Marks of Saurabh out of 10 is: 4.466666666666667\n"
     ]
    }
   ],
   "source": [
    "print(f'Marks of Saurabh out of 10 is: {Saurabh}')"
   ]
  },
  {
   "cell_type": "markdown",
   "metadata": {},
   "source": [
    "##### 3 Write a program to find largest among 3 numbers"
   ]
  },
  {
   "cell_type": "code",
   "execution_count": 10,
   "metadata": {},
   "outputs": [
    {
     "name": "stdout",
     "output_type": "stream",
     "text": [
      "Enter 1st no.: 465465\n",
      "Enter 2nd no.: 65564\n",
      "Enter 3rd no.: 68646841\n",
      "No. z = 68646841.0 is largest among ((465465.0, 65564.0, 68646841.0))\n"
     ]
    }
   ],
   "source": [
    "def largest_among_3(x,y,z):\n",
    "    '''prints the largest no. among 3 no.'''\n",
    "    if x > y and x > z:\n",
    "        print(f'No. x = {x} is largest among ({x,y,z})')\n",
    "    elif y > z and y > x:\n",
    "        print(f'No. y = {y} is largest among ({x,y,z})')\n",
    "    elif z > x and z > y:\n",
    "        print(f'No. z = {z} is largest among ({x,y,z})')\n",
    "\n",
    "x = float(input('Enter 1st no.: '))\n",
    "y = float(input('Enter 2nd no.: '))\n",
    "z = float(input('Enter 3rd no.: '))\n",
    "\n",
    "largest_among_3(x,y,z)"
   ]
  },
  {
   "attachments": {
    "image.png": {
     "image/png": "[encoded data removed]"
    }
   },
   "cell_type": "markdown",
   "metadata": {},
   "source": [
    "##### 4 Write a program to input number of lines from the user and print the patterns: If the user enters 4 following patters should be printed\n",
    "![image.png](attachment:image.png)"
   ]
  },
  {
   "cell_type": "code",
   "execution_count": 17,
   "metadata": {},
   "outputs": [
    {
     "name": "stdout",
     "output_type": "stream",
     "text": [
      "Input the no of lines of pattern you want4\n",
      "*\n",
      "**\n",
      "***\n",
      "****\n"
     ]
    }
   ],
   "source": [
    "user_input = int(input('Input the no of lines of pattern you want'))\n",
    "x = ''\n",
    "for _ in range(user_input):\n",
    "    x += '*'\n",
    "    print(x)"
   ]
  },
  {
   "attachments": {
    "image.png": {
     "image/png": "[encoded data removed]"
    }
   },
   "cell_type": "markdown",
   "metadata": {},
   "source": [
    "##### 5 Write a program to print the Diamond Pattern\n",
    "![image.png](attachment:image.png)"
   ]
  },
  {
   "cell_type": "code",
   "execution_count": 19,
   "metadata": {},
   "outputs": [
    {
     "name": "stdout",
     "output_type": "stream",
     "text": [
      "      *       \n",
      "   *      *   \n",
      "*     *      *\n",
      "   *      *   \n",
      "      *       \n"
     ]
    }
   ],
   "source": [
    "print('      *       ')\n",
    "print('   *      *   ')\n",
    "print('*     *      *')\n",
    "print('   *      *   ')\n",
    "print('      *       ')"
   ]
  },
  {
   "cell_type": "code",
   "execution_count": 8,
   "metadata": {},
   "outputs": [
    {
     "name": "stdout",
     "output_type": "stream",
     "text": [
      "Enter diamond's height: 3\n",
      "    *\n",
      "   ***\n",
      "  *****\n",
      "   ***\n",
      "    *\n"
     ]
    }
   ],
   "source": [
    "h = int(input(\"Enter diamond's height: \"))\n",
    "for x in range(h):\n",
    "    print(\" \" * (h - x), \"*\" * (2*x + 1))\n",
    "for x in range(h - 2, -1, -1):\n",
    "    print(\" \" * (h - x), \"*\" * (2*x + 1))"
   ]
  },
  {
   "attachments": {
    "image.png": {
     "image/png": "[encoded data removed]"
    }
   },
   "cell_type": "markdown",
   "metadata": {},
   "source": [
    "##### 6 Write a program to print the following pattern\n",
    "![image.png](attachment:image.png)"
   ]
  },
  {
   "cell_type": "code",
   "execution_count": 6,
   "metadata": {},
   "outputs": [
    {
     "name": "stdout",
     "output_type": "stream",
     "text": [
      "Enter the Height of the patten: 3\n",
      "\n",
      "\n",
      "*\n",
      "**\n",
      "***\n",
      "**\n",
      "*\n",
      "\n"
     ]
    }
   ],
   "source": [
    "h = int(input('Enter the Height of the patten: '))\n",
    "print('\\n')\n",
    "for x in range(h):\n",
    "    print('*' * (x+1))\n",
    "for x in range(h):\n",
    "    print('*' * (h-x-1))"
   ]
  },
  {
   "cell_type": "markdown",
   "metadata": {},
   "source": [
    "##### 7\n",
    "Write a program to make a List in Python and perform following operations on List:                                  \n",
    "a) length using len() function                        \n",
    "b) print element at index 0                            \n",
    "c) adding an element to the list using + operator                   \n",
    "d) appending an element to the list                         \n",
    "e) negative indexing in list                                \n",
    "f) remove the first occurrence of element a from list                \n",
    "g) reverse the list                       \n",
    "h) sort list                    "
   ]
  },
  {
   "cell_type": "code",
   "execution_count": 65,
   "metadata": {},
   "outputs": [
    {
     "name": "stdout",
     "output_type": "stream",
     "text": [
      "[81, 35, 76, 24, 50, 39, 18, 19, 23, 96]\n"
     ]
    }
   ],
   "source": [
    "import random\n",
    "ls = []\n",
    "for _ in range(10):\n",
    "    ls.append(random.randint(1,100))\n",
    "print(ls)"
   ]
  },
  {
   "cell_type": "code",
   "execution_count": 66,
   "metadata": {},
   "outputs": [
    {
     "data": {
      "text/plain": [
       "10"
      ]
     },
     "execution_count": 66,
     "metadata": {},
     "output_type": "execute_result"
    }
   ],
   "source": [
    "len(ls)"
   ]
  },
  {
   "cell_type": "code",
   "execution_count": 67,
   "metadata": {},
   "outputs": [
    {
     "name": "stdout",
     "output_type": "stream",
     "text": [
      "81\n"
     ]
    }
   ],
   "source": [
    "print(ls[0])"
   ]
  },
  {
   "cell_type": "code",
   "execution_count": 68,
   "metadata": {},
   "outputs": [
    {
     "data": {
      "text/plain": [
       "[81, 35, 76, 24, 50, 39, 18, 19, 23, 96, 100]"
      ]
     },
     "execution_count": 68,
     "metadata": {},
     "output_type": "execute_result"
    }
   ],
   "source": [
    "ls += [100]\n",
    "ls"
   ]
  },
  {
   "cell_type": "code",
   "execution_count": 69,
   "metadata": {},
   "outputs": [
    {
     "data": {
      "text/plain": [
       "[81, 35, 76, 24, 50, 39, 18, 19, 23, 96, 100, 45]"
      ]
     },
     "execution_count": 69,
     "metadata": {},
     "output_type": "execute_result"
    }
   ],
   "source": [
    "ls.append(45)\n",
    "ls"
   ]
  },
  {
   "cell_type": "code",
   "execution_count": 70,
   "metadata": {},
   "outputs": [
    {
     "data": {
      "text/plain": [
       "45"
      ]
     },
     "execution_count": 70,
     "metadata": {},
     "output_type": "execute_result"
    }
   ],
   "source": [
    "ls[-1] # last element of the list"
   ]
  },
  {
   "cell_type": "code",
   "execution_count": 71,
   "metadata": {},
   "outputs": [
    {
     "data": {
      "text/plain": [
       "[81, 35, 76, 24, 50, 39, 18, 23, 96, 100, 45]"
      ]
     },
     "execution_count": 71,
     "metadata": {},
     "output_type": "execute_result"
    }
   ],
   "source": [
    "ls.remove(19)\n",
    "ls"
   ]
  },
  {
   "cell_type": "code",
   "execution_count": 72,
   "metadata": {},
   "outputs": [
    {
     "data": {
      "text/plain": [
       "[35, 76, 24, 50, 39, 18, 23, 96, 100, 45]"
      ]
     },
     "execution_count": 72,
     "metadata": {},
     "output_type": "execute_result"
    }
   ],
   "source": [
    "ls.remove(ls[0])\n",
    "ls"
   ]
  },
  {
   "cell_type": "code",
   "execution_count": 73,
   "metadata": {},
   "outputs": [
    {
     "data": {
      "text/plain": [
       "[45, 100, 96, 23, 18, 39, 50, 24, 76, 35]"
      ]
     },
     "execution_count": 73,
     "metadata": {},
     "output_type": "execute_result"
    }
   ],
   "source": [
    "ls.reverse()\n",
    "ls"
   ]
  },
  {
   "cell_type": "code",
   "execution_count": 74,
   "metadata": {},
   "outputs": [
    {
     "data": {
      "text/plain": [
       "[18, 23, 24, 35, 39, 45, 50, 76, 96, 100]"
      ]
     },
     "execution_count": 74,
     "metadata": {},
     "output_type": "execute_result"
    }
   ],
   "source": [
    "ls.sort()\n",
    "ls"
   ]
  },
  {
   "cell_type": "markdown",
   "metadata": {},
   "source": [
    "##### 8. Write a program to demonstrate use of Dictionary in Python with their inbuilt functions."
   ]
  },
  {
   "cell_type": "markdown",
   "metadata": {},
   "source": [
    "Indexing"
   ]
  },
  {
   "cell_type": "code",
   "execution_count": 36,
   "metadata": {},
   "outputs": [
    {
     "data": {
      "text/plain": [
       "{'saurabh': 10, 'ankit': 8, 'anurag': 7}"
      ]
     },
     "execution_count": 36,
     "metadata": {},
     "output_type": "execute_result"
    }
   ],
   "source": [
    "dict = {'saurabh': 10, 'ankit': 8, 'anurag': 7}\n",
    "dict"
   ]
  },
  {
   "cell_type": "code",
   "execution_count": 37,
   "metadata": {},
   "outputs": [
    {
     "data": {
      "text/plain": [
       "10"
      ]
     },
     "execution_count": 37,
     "metadata": {},
     "output_type": "execute_result"
    }
   ],
   "source": [
    "dict['saurabh'] # Indexing using key value pair"
   ]
  },
  {
   "cell_type": "code",
   "execution_count": 38,
   "metadata": {},
   "outputs": [
    {
     "name": "stdout",
     "output_type": "stream",
     "text": [
      "None\n"
     ]
    }
   ],
   "source": [
    "print(dict.get('ankit2')) #If it cant find the key it will return none\n",
    "# rather than showing error"
   ]
  },
  {
   "cell_type": "markdown",
   "metadata": {},
   "source": [
    "Updaing the values"
   ]
  },
  {
   "cell_type": "code",
   "execution_count": 39,
   "metadata": {},
   "outputs": [
    {
     "data": {
      "text/plain": [
       "{'saurabh': 20, 'ankit': 8, 'anurag': 7}"
      ]
     },
     "execution_count": 39,
     "metadata": {},
     "output_type": "execute_result"
    }
   ],
   "source": [
    "dict['saurabh'] = 20\n",
    "dict"
   ]
  },
  {
   "cell_type": "markdown",
   "metadata": {},
   "source": [
    "Adding the elements in dictionary"
   ]
  },
  {
   "cell_type": "code",
   "execution_count": 40,
   "metadata": {},
   "outputs": [
    {
     "data": {
      "text/plain": [
       "{'saurabh': 20, 'ankit': 8, 'anurag': 7, 'rayan': 6}"
      ]
     },
     "execution_count": 40,
     "metadata": {},
     "output_type": "execute_result"
    }
   ],
   "source": [
    "dict['rayan'] = 6\n",
    "dict"
   ]
  },
  {
   "cell_type": "markdown",
   "metadata": {},
   "source": [
    "removing a value"
   ]
  },
  {
   "cell_type": "code",
   "execution_count": 41,
   "metadata": {},
   "outputs": [
    {
     "data": {
      "text/plain": [
       "{'saurabh': 20, 'ankit': 8, 'anurag': 7}"
      ]
     },
     "execution_count": 41,
     "metadata": {},
     "output_type": "execute_result"
    }
   ],
   "source": [
    "dict.pop('rayan')\n",
    "dict"
   ]
  },
  {
   "cell_type": "code",
   "execution_count": 32,
   "metadata": {},
   "outputs": [
    {
     "data": {
      "text/plain": [
       "('anurag', 7)"
      ]
     },
     "execution_count": 32,
     "metadata": {},
     "output_type": "execute_result"
    }
   ],
   "source": [
    "dict.popitem() # pops last element"
   ]
  },
  {
   "cell_type": "markdown",
   "metadata": {},
   "source": [
    "Clear all dict"
   ]
  },
  {
   "cell_type": "code",
   "execution_count": 34,
   "metadata": {},
   "outputs": [
    {
     "data": {
      "text/plain": [
       "{}"
      ]
     },
     "execution_count": 34,
     "metadata": {},
     "output_type": "execute_result"
    }
   ],
   "source": [
    "dict.clear()\n",
    "dict"
   ]
  },
  {
   "cell_type": "markdown",
   "metadata": {},
   "source": [
    "Keys"
   ]
  },
  {
   "cell_type": "code",
   "execution_count": 42,
   "metadata": {},
   "outputs": [
    {
     "data": {
      "text/plain": [
       "dict_keys(['saurabh', 'ankit', 'anurag'])"
      ]
     },
     "execution_count": 42,
     "metadata": {},
     "output_type": "execute_result"
    }
   ],
   "source": [
    "dict.keys()"
   ]
  },
  {
   "cell_type": "markdown",
   "metadata": {},
   "source": [
    "Values"
   ]
  },
  {
   "cell_type": "code",
   "execution_count": 43,
   "metadata": {},
   "outputs": [
    {
     "data": {
      "text/plain": [
       "dict_values([20, 8, 7])"
      ]
     },
     "execution_count": 43,
     "metadata": {},
     "output_type": "execute_result"
    }
   ],
   "source": [
    "dict.values()"
   ]
  },
  {
   "cell_type": "markdown",
   "metadata": {},
   "source": [
    "Copying Dictionary"
   ]
  },
  {
   "cell_type": "code",
   "execution_count": 49,
   "metadata": {},
   "outputs": [
    {
     "data": {
      "text/plain": [
       "{'saurabh': 20, 'ankit': 8, 'anurag': 7}"
      ]
     },
     "execution_count": 49,
     "metadata": {},
     "output_type": "execute_result"
    }
   ],
   "source": [
    "dict2 = dict.copy()\n",
    "dict2"
   ]
  },
  {
   "cell_type": "markdown",
   "metadata": {},
   "source": [
    "##### Inbuilt Methods"
   ]
  },
  {
   "cell_type": "code",
   "execution_count": 50,
   "metadata": {},
   "outputs": [
    {
     "data": {
      "text/plain": [
       "True"
      ]
     },
     "execution_count": 50,
     "metadata": {},
     "output_type": "execute_result"
    }
   ],
   "source": [
    "all(dict) # returns True if all keys of dict are True"
   ]
  },
  {
   "cell_type": "code",
   "execution_count": 51,
   "metadata": {},
   "outputs": [
    {
     "data": {
      "text/plain": [
       "True"
      ]
     },
     "execution_count": 51,
     "metadata": {},
     "output_type": "execute_result"
    }
   ],
   "source": [
    "any(dict) # Return True if any key of the dictionary is true"
   ]
  },
  {
   "cell_type": "code",
   "execution_count": 53,
   "metadata": {},
   "outputs": [
    {
     "data": {
      "text/plain": [
       "3"
      ]
     },
     "execution_count": 53,
     "metadata": {},
     "output_type": "execute_result"
    }
   ],
   "source": [
    "len(dict) # Return the length (the number of items) in the dictionary"
   ]
  },
  {
   "cell_type": "code",
   "execution_count": 54,
   "metadata": {},
   "outputs": [
    {
     "data": {
      "text/plain": [
       "['ankit', 'anurag', 'saurabh']"
      ]
     },
     "execution_count": 54,
     "metadata": {},
     "output_type": "execute_result"
    }
   ],
   "source": [
    "sorted(dict) # Return a new sorted list of keys in the dictionary"
   ]
  },
  {
   "cell_type": "markdown",
   "metadata": {},
   "source": [
    "##### 9. Write a program to demonstrate use of Set in Python with their inbuilt functions."
   ]
  },
  {
   "cell_type": "code",
   "execution_count": 60,
   "metadata": {},
   "outputs": [
    {
     "name": "stdout",
     "output_type": "stream",
     "text": [
      "x is of type: <class 'list'>\n",
      "y is of type: <class 'set'>\n"
     ]
    }
   ],
   "source": [
    "x = [1,2,3,5,6,7]\n",
    "print(f'x is of type: {type(x)}')\n",
    "\n",
    "y = {1,2,4,8,5,8} # Written in curly braces\n",
    "print(f'y is of type: {type(y)}')"
   ]
  },
  {
   "cell_type": "markdown",
   "metadata": {},
   "source": [
    "Sets are unordered, so you cannot be sure in which order the items will appear.                      \n",
    "Set items are unordered, unchangeable, and do not allow duplicate values.                                    \n",
    "Once a set is created, you cannot change its items, but you can remove items and add new items."
   ]
  },
  {
   "cell_type": "code",
   "execution_count": 63,
   "metadata": {},
   "outputs": [
    {
     "name": "stdout",
     "output_type": "stream",
     "text": [
      "{1, 2, 4, 5, 8}\n"
     ]
    }
   ],
   "source": [
    "print(y) # y has only printed 8 once."
   ]
  },
  {
   "cell_type": "code",
   "execution_count": 65,
   "metadata": {},
   "outputs": [
    {
     "data": {
      "text/plain": [
       "5"
      ]
     },
     "execution_count": 65,
     "metadata": {},
     "output_type": "execute_result"
    }
   ],
   "source": [
    "len(y) # length of elements inside set"
   ]
  },
  {
   "cell_type": "code",
   "execution_count": 101,
   "metadata": {},
   "outputs": [
    {
     "data": {
      "text/plain": [
       "{1, 2, 40, 'saurabh'}"
      ]
     },
     "execution_count": 101,
     "metadata": {},
     "output_type": "execute_result"
    }
   ],
   "source": [
    "set1 = {1,2,'saurabh', True, 40} # can take hetrogenoeous data\n",
    "set1"
   ]
  },
  {
   "cell_type": "code",
   "execution_count": 102,
   "metadata": {},
   "outputs": [
    {
     "data": {
      "text/plain": [
       "{'apple', 'banana', 'straberry'}"
      ]
     },
     "execution_count": 102,
     "metadata": {},
     "output_type": "execute_result"
    }
   ],
   "source": [
    "set2 = set(('apple','banana', 'straberry')) # we can make set using double parenthesis\n",
    "set2"
   ]
  },
  {
   "cell_type": "code",
   "execution_count": 103,
   "metadata": {},
   "outputs": [
    {
     "data": {
      "text/plain": [
       "{'banana', 'straberry'}"
      ]
     },
     "execution_count": 103,
     "metadata": {},
     "output_type": "execute_result"
    }
   ],
   "source": [
    "set2.pop() #removes 1st element - like queue\n",
    "set2"
   ]
  },
  {
   "cell_type": "code",
   "execution_count": 104,
   "metadata": {},
   "outputs": [
    {
     "data": {
      "text/plain": [
       "{'banana'}"
      ]
     },
     "execution_count": 104,
     "metadata": {},
     "output_type": "execute_result"
    }
   ],
   "source": [
    "set2.remove('straberry') # remove element\n",
    "set2"
   ]
  },
  {
   "cell_type": "code",
   "execution_count": 105,
   "metadata": {},
   "outputs": [
    {
     "data": {
      "text/plain": [
       "{5, 'banana'}"
      ]
     },
     "execution_count": 105,
     "metadata": {},
     "output_type": "execute_result"
    }
   ],
   "source": [
    "set2.add(5)\n",
    "set2"
   ]
  },
  {
   "cell_type": "code",
   "execution_count": 109,
   "metadata": {},
   "outputs": [
    {
     "data": {
      "text/plain": [
       "{(1, 2, 4), 5, 'banana'}"
      ]
     },
     "execution_count": 109,
     "metadata": {},
     "output_type": "execute_result"
    }
   ],
   "source": [
    "set2.add((1,2,4)) # adding list\n",
    "set2"
   ]
  },
  {
   "cell_type": "code",
   "execution_count": 110,
   "metadata": {},
   "outputs": [
    {
     "data": {
      "text/plain": [
       "set()"
      ]
     },
     "execution_count": 110,
     "metadata": {},
     "output_type": "execute_result"
    }
   ],
   "source": [
    "set2.clear() # clearing all the values\n",
    "set2"
   ]
  },
  {
   "cell_type": "code",
   "execution_count": 113,
   "metadata": {},
   "outputs": [
    {
     "data": {
      "text/plain": [
       "{9}"
      ]
     },
     "execution_count": 113,
     "metadata": {},
     "output_type": "execute_result"
    }
   ],
   "source": [
    "set1 = {1,3,5,7,9}\n",
    "set2 = {2,4,6,8,9}\n",
    "\n",
    "set1.intersection(set2) # returns intersection of 2 sets"
   ]
  },
  {
   "cell_type": "code",
   "execution_count": 115,
   "metadata": {},
   "outputs": [
    {
     "data": {
      "text/plain": [
       "{1, 2, 3, 4, 5, 6, 7, 8, 9}"
      ]
     },
     "execution_count": 115,
     "metadata": {},
     "output_type": "execute_result"
    }
   ],
   "source": [
    "set1.union(set2) # union of 2 sets"
   ]
  },
  {
   "cell_type": "markdown",
   "metadata": {},
   "source": [
    "##### 10. Write a program to demonstrate use of Tuple in Python with their inbuilt functions."
   ]
  },
  {
   "cell_type": "markdown",
   "metadata": {},
   "source": [
    "Tuple items are ordered, unchangeable, and allow duplicate values.      \n",
    "Tuple items are indexed          \n",
    "Hetrogenous data"
   ]
  },
  {
   "cell_type": "code",
   "execution_count": 122,
   "metadata": {},
   "outputs": [
    {
     "name": "stdout",
     "output_type": "stream",
     "text": [
      "<class 'tuple'>\n",
      "x is of type: <class 'list'>\n",
      "y is of type: <class 'set'>\n"
     ]
    }
   ],
   "source": [
    "tup1 = (1,2,3,4,5,6) # parenthesis\n",
    "print(type(tup1))\n",
    "\n",
    "x = [1,2,3,5,6,7]\n",
    "print(f'x is of type: {type(x)}')\n",
    "\n",
    "y = {1,2,4,8,5,8} # Written in curly braces\n",
    "print(f'y is of type: {type(y)}')"
   ]
  },
  {
   "cell_type": "code",
   "execution_count": 123,
   "metadata": {},
   "outputs": [
    {
     "data": {
      "text/plain": [
       "('app', 4)"
      ]
     },
     "execution_count": 123,
     "metadata": {},
     "output_type": "execute_result"
    }
   ],
   "source": [
    "len(tup1)\n",
    "tup2 = ('app', 4)\n",
    "tup2"
   ]
  },
  {
   "cell_type": "markdown",
   "metadata": {},
   "source": [
    "##### 11. Write a program to calculate Median using List."
   ]
  },
  {
   "cell_type": "code",
   "execution_count": 145,
   "metadata": {},
   "outputs": [
    {
     "data": {
      "text/plain": [
       "5.5"
      ]
     },
     "execution_count": 145,
     "metadata": {},
     "output_type": "execute_result"
    }
   ],
   "source": [
    "ls1 = [1,2,3,4,5,6,7,8,9,10]\n",
    "\n",
    "if len(ls1) % 2 == 0:\n",
    "    med = int(len(ls1)/2) - 1 # reducing 1 because of indexing\n",
    "    median_value = (ls1[med] + ls1[med+1])/2\n",
    "else:\n",
    "    med = int((len(ls1)) /2)\n",
    "    median_value = ls1[med]\n",
    "\n",
    "median_value"
   ]
  },
  {
   "cell_type": "markdown",
   "metadata": {},
   "source": [
    "##### 12. Write a program to calculate Mode using List."
   ]
  },
  {
   "cell_type": "code",
   "execution_count": 188,
   "metadata": {},
   "outputs": [
    {
     "data": {
      "text/plain": [
       "4"
      ]
     },
     "execution_count": 188,
     "metadata": {},
     "output_type": "execute_result"
    }
   ],
   "source": [
    "ls2 = [1,2,3,4,5,6,7,8,9,10,12,12,4,4,5,3,2,5,1]\n",
    "\n",
    "from statistics import mode\n",
    "mode(ls2)"
   ]
  },
  {
   "cell_type": "code",
   "execution_count": 195,
   "metadata": {},
   "outputs": [
    {
     "data": {
      "text/plain": [
       "[4, 5]"
      ]
     },
     "execution_count": 195,
     "metadata": {},
     "output_type": "execute_result"
    }
   ],
   "source": [
    "ls2 = [1,2,3,4,5,6,7,8,9,10,12,12,4,4,5,3,2,5,1]\n",
    "\n",
    "def model_mean(ls2):\n",
    "    y = {}\n",
    "    \n",
    "    for i in ls2: \n",
    "        if not i in y:\n",
    "            y[i] = 1\n",
    "        else:\n",
    "            y[i] +=1\n",
    "    \n",
    "    return [key for key,value in y.items() if value == max(y.values())]\n",
    "            \n",
    "y = model_mean(ls2)\n",
    "y"
   ]
  },
  {
   "cell_type": "markdown",
   "metadata": {},
   "source": [
    "##### 13. Write a program to calculate Mean using List."
   ]
  },
  {
   "cell_type": "code",
   "execution_count": 191,
   "metadata": {},
   "outputs": [
    {
     "data": {
      "text/plain": [
       "5.421052631578948"
      ]
     },
     "execution_count": 191,
     "metadata": {},
     "output_type": "execute_result"
    }
   ],
   "source": [
    "ls2 = [1,2,3,4,5,6,7,8,9,10,12,12,4,4,5,3,2,5,1]\n",
    "sum = 0\n",
    "\n",
    "for i in ls2:\n",
    "    sum += i\n",
    "\n",
    "avg = sum/(len(ls2))\n",
    "avg"
   ]
  },
  {
   "cell_type": "markdown",
   "metadata": {},
   "source": [
    "##### 14. Write a program to demonstrate list creation, append entire list to another list"
   ]
  },
  {
   "cell_type": "code",
   "execution_count": 196,
   "metadata": {},
   "outputs": [
    {
     "data": {
      "text/plain": [
       "[1, 5, 10, [6, 9, 8]]"
      ]
     },
     "execution_count": 196,
     "metadata": {},
     "output_type": "execute_result"
    }
   ],
   "source": [
    "ls1 = [1,5,10]\n",
    "ls2 = [6,9,8]\n",
    "ls1.append(ls2)\n",
    "ls1"
   ]
  },
  {
   "cell_type": "markdown",
   "metadata": {},
   "source": [
    "##### 15. Write a program to demonstrate slicing operations on the list"
   ]
  },
  {
   "cell_type": "code",
   "execution_count": 197,
   "metadata": {},
   "outputs": [
    {
     "data": {
      "text/plain": [
       "[1, 5, 10]"
      ]
     },
     "execution_count": 197,
     "metadata": {},
     "output_type": "execute_result"
    }
   ],
   "source": [
    "ls1 = [1,5,10]\n",
    "ls1[:]\n",
    "ls1"
   ]
  },
  {
   "cell_type": "code",
   "execution_count": 203,
   "metadata": {},
   "outputs": [
    {
     "data": {
      "text/plain": [
       "[1, 5]"
      ]
     },
     "execution_count": 203,
     "metadata": {},
     "output_type": "execute_result"
    }
   ],
   "source": [
    "ls1[0:2] # [inluding : excluding]"
   ]
  },
  {
   "cell_type": "markdown",
   "metadata": {},
   "source": [
    "##### 16. Write a program to find minimum, maximum in a list"
   ]
  },
  {
   "cell_type": "code",
   "execution_count": 218,
   "metadata": {},
   "outputs": [
    {
     "name": "stdout",
     "output_type": "stream",
     "text": [
      "Max: 12, Min: 1\n"
     ]
    }
   ],
   "source": [
    "ls2 = [1,2,3,4,5,6,7,8,9,10,12,12,4,4,5,3,2,5,1]\n",
    "ls2.sort()\n",
    "\n",
    "max = ls2[-1]\n",
    "min = ls2[0]\n",
    "print(f'Max: {max}, Min: {min}')"
   ]
  },
  {
   "cell_type": "markdown",
   "metadata": {},
   "source": [
    "##### 17. Write a program to search an element in a list, find the number of occurrences and the index of its first occurrence"
   ]
  },
  {
   "cell_type": "code",
   "execution_count": 234,
   "metadata": {},
   "outputs": [
    {
     "name": "stdout",
     "output_type": "stream",
     "text": [
      "No of occurances of the element is: 3\n",
      "1st Occurance at index: 4\n"
     ]
    }
   ],
   "source": [
    "ls2 = [1,2,3,4,5,6,7,8,9,10,12,12,4,4,5,3,2,5,1]\n",
    "\n",
    "search = 5\n",
    "count = 0\n",
    "\n",
    "for i in range(len(ls2)):\n",
    "    if search == ls2[i]:\n",
    "        count += 1\n",
    "    \n",
    "print(f'No of occurances of the element is: {count}')\n",
    "\n",
    "for i in range(len(ls2)):\n",
    "    if search == ls2[i]:\n",
    "        print(f'1st Occurance at index: {i}')\n",
    "        break"
   ]
  },
  {
   "cell_type": "markdown",
   "metadata": {},
   "source": [
    "##### 18. Write a program to create a 2D list"
   ]
  },
  {
   "cell_type": "code",
   "execution_count": 18,
   "metadata": {},
   "outputs": [
    {
     "name": "stdout",
     "output_type": "stream",
     "text": [
      "[1, 2, 4, 4, 6]\n",
      "[5, 3, 7, 8, 9]\n"
     ]
    }
   ],
   "source": [
    "arr = [[1,2,4,4,6],[5,3,7,8,9]]\n",
    "\n",
    "for row in arr:\n",
    "    print(row)"
   ]
  },
  {
   "cell_type": "markdown",
   "metadata": {},
   "source": [
    "##### 19. Write a program to iterate over a 2D list in different ways"
   ]
  },
  {
   "cell_type": "code",
   "execution_count": 20,
   "metadata": {},
   "outputs": [
    {
     "name": "stdout",
     "output_type": "stream",
     "text": [
      "1\n",
      "2\n",
      "4\n",
      "4\n",
      "6\n",
      "5\n",
      "3\n",
      "7\n",
      "8\n",
      "9\n"
     ]
    }
   ],
   "source": [
    "arr = [[1,2,4,4,6],[5,3,7,8,9]]\n",
    "\n",
    "for row in arr:\n",
    "    for col in row:\n",
    "        print(col)"
   ]
  },
  {
   "cell_type": "markdown",
   "metadata": {
    "id": "0VUYR-rVdaqm"
   },
   "source": [
    "##### 20. Write a program to perform spilt and join operation on a list"
   ]
  },
  {
   "cell_type": "code",
   "execution_count": 29,
   "metadata": {},
   "outputs": [
    {
     "name": "stdout",
     "output_type": "stream",
     "text": [
      "List 1: [1, 2, 3, 4, 5, 6, 7, 8, 9, 10], List 2: [12, 12, 4, 4, 5, 3, 2, 5, 1]\n"
     ]
    }
   ],
   "source": [
    "ls = [1,2,3,4,5,6,7,8,9,10,12,12,4,4,5,3,2,5,1]\n",
    "split1 = []\n",
    "split2 = []\n",
    "mid = round(len(ls)/2)\n",
    "\n",
    "for i in range(len(ls)):\n",
    "    if i < mid:\n",
    "        split1.append(ls[i])\n",
    "    else:\n",
    "        split2.append(ls[i])\n",
    "\n",
    "print(f'List 1: {split1}, List 2: {split2}')"
   ]
  },
  {
   "cell_type": "code",
   "execution_count": 31,
   "metadata": {},
   "outputs": [
    {
     "data": {
      "text/plain": [
       "[1, 2, 3, 4, 5, 6, 7, 8, 9, 10, 12, 12, 4, 4, 5, 3, 2, 5, 1]"
      ]
     },
     "execution_count": 31,
     "metadata": {},
     "output_type": "execute_result"
    }
   ],
   "source": [
    "ls_join = split1 + split2\n",
    "ls_join"
   ]
  }
 ],
 "metadata": {
  "colab": {
   "authorship_tag": "ABX9TyMGHYAVNz9xId0PsTpiG7Ys",
   "collapsed_sections": [],
   "name": "Assign_02_Saurabh_Ramteke_21-27-19.ipynb",
   "provenance": []
  },
  "kernelspec": {
   "display_name": "Python 3 (ipykernel)",
   "language": "python",
   "name": "python3"
  },
  "language_info": {
   "codemirror_mode": {
    "name": "ipython",
    "version": 3
   },
   "file_extension": ".py",
   "mimetype": "text/x-python",
   "name": "python",
   "nbconvert_exporter": "python",
   "pygments_lexer": "ipython3",
   "version": "3.9.7"
  }
 },
 "nbformat": 4,
 "nbformat_minor": 1
}
